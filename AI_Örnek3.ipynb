{
  "nbformat": 4,
  "nbformat_minor": 0,
  "metadata": {
    "colab": {
      "provenance": []
    },
    "kernelspec": {
      "name": "python3",
      "display_name": "Python 3"
    },
    "language_info": {
      "name": "python"
    }
  },
  "cells": [
    {
      "cell_type": "code",
      "execution_count": null,
      "metadata": {
        "colab": {
          "base_uri": "https://localhost:8080/"
        },
        "id": "xb8Qlyr8fAkK",
        "outputId": "5d6bd9ea-7894-4e6e-dc4f-8f940dd0991b"
      },
      "outputs": [
        {
          "output_type": "stream",
          "name": "stdout",
          "text": [
            "A--->B--->D--->E--->C--->"
          ]
        }
      ],
      "source": [
        "#Derinlemesine Arama\n",
        "Graf = {\n",
        "    'A': ['B', 'C'],\n",
        "    'B': ['D', 'E'],\n",
        "    'C': [],\n",
        "    'D': [],\n",
        "    'E': [],\n",
        "    'F': [],\n",
        "    'G': []\n",
        "}\n",
        "Hedef ='F'\n",
        "ZiyaretEdildi=set()\n",
        "def Derinlemesine(ZiyaretEdildi,Graf,Dugum):\n",
        "  if Dugum not in ZiyaretEdildi:\n",
        "      print(Dugum+\"--->\",end=\"\")\n",
        "      ZiyaretEdildi.add(Dugum)\n",
        "      for Komsu in Graf[Dugum]:\n",
        "        if Hedef in ZiyaretEdildi:\n",
        "            break\n",
        "        else:\n",
        "            Derinlemesine(ZiyaretEdildi, Graf, Komsu)\n",
        "Derinlemesine(ZiyaretEdildi,Graf, 'A')"
      ]
    },
    {
      "cell_type": "code",
      "source": [
        "#Derinlemesine Sınırlı Arama\n",
        "Graf = {\n",
        "    'A': ['B', 'C'],\n",
        "    'B': ['D', 'E'],\n",
        "    'C': ['F','G'],\n",
        "    'D': [],\n",
        "    'E': [],\n",
        "    'F': [],\n",
        "    'G': []\n",
        "}\n",
        "def DerinlemesineSinirli(Baslangic,Hedef,Yol,Seviye,maxD):\n",
        "  print('Gecerli Seviye -->',Seviye)\n",
        "  Yol.append(Baslangic)\n",
        "  if Baslangic == Hedef:\n",
        "    print(\"Hedef deneme başarılı\")\n",
        "    return Yol\n",
        "  print ('Hedef düğüm denemesi başarısız')\n",
        "  for Cocuk in Graf[Baslangic]:\n",
        "    if DerinlemesineSinirli(Cocuk,Hedef,Yol,Seviye+1,maxD):\n",
        "      return Yol\n",
        "    Yol.pop()\n",
        "  return False\n",
        "Baslangic='A'\n",
        "Hedef=input('Hedef düğümü girin:')\n",
        "maxD=int(input(\"Maksimum derinlik seviye sınırını girin:\"))\n",
        "print()\n",
        "Yol =list()\n",
        "res =DerinlemesineSinirli(Baslangic, Hedef, Yol,0,maxD)\n",
        "if(res):\n",
        "  print(\"**Hedef düğüm uygun yol**\")\n",
        "  print(\"Yol\", Yol)\n",
        "else:\n",
        "  print(\"**Bu derinlik seviye sınırında Hedef düğüme uygun Yol yok**\")"
      ],
      "metadata": {
        "colab": {
          "base_uri": "https://localhost:8080/"
        },
        "id": "CDryBaxDkjVz",
        "outputId": "36541577-af84-4f27-b2f4-3a85f4516f5d"
      },
      "execution_count": null,
      "outputs": [
        {
          "output_type": "stream",
          "name": "stdout",
          "text": [
            "Hedef düğümü girin:B\n",
            "Maksimum derinlik seviye sınırını girin:2\n",
            "\n",
            "Gecerli Seviye --> 0\n",
            "Hedef düğüm denemesi başarısız\n",
            "Gecerli Seviye --> 1\n",
            "Hedef deneme başarılı\n",
            "**Hedef düğüm uygun yol**\n",
            "Yol ['A', 'B']\n"
          ]
        }
      ]
    },
    {
      "cell_type": "code",
      "source": [
        "# Yinelemeli Derinlemesine  Arama\n",
        "Graf = {\n",
        "    'A': ['B', 'C'],\n",
        "    'B': ['D', 'E'],\n",
        "    'C': ['F', 'G'],\n",
        "    'D': [],\n",
        "    'E': [],\n",
        "    'F': [],\n",
        "    'G': []\n",
        "}\n",
        "Yol = []\n",
        "\n",
        "def DerinlemesineYinelemeli(MevcutDugum, Hedef, Graf, maxD, MevcutListe):\n",
        "    MevcutListe.append(MevcutDugum)\n",
        "    if MevcutDugum == Hedef:\n",
        "        return True\n",
        "    if maxD <= 0:\n",
        "        Yol.append(MevcutListe.copy())\n",
        "        return False\n",
        "    for Dugum in Graf[MevcutDugum]:\n",
        "        if DerinlemesineYinelemeli(Dugum, Hedef, Graf, maxD - 1, MevcutListe):\n",
        "            return True\n",
        "        else:\n",
        "            MevcutListe.pop()\n",
        "    return False\n",
        "\n",
        "def YineleDerinlemesineYinelemeli(MevcutDugum, Hedef, Graf, maxD):\n",
        "    for i in range(maxD):\n",
        "        MevcutListe = []\n",
        "        if DerinlemesineYinelemeli(MevcutDugum, Hedef, Graf, i, MevcutListe):\n",
        "            return True\n",
        "    return False\n",
        "\n",
        "if not YineleDerinlemesineYinelemeli('A', 'E', Graf, 3):\n",
        "    print(\"Uygun Yol Yok!\")\n",
        "else:\n",
        "    print(\"Uygun Yol Var!\")\n",
        "    print(Yol.pop())\n"
      ],
      "metadata": {
        "colab": {
          "base_uri": "https://localhost:8080/"
        },
        "id": "-pcmneWRrAMn",
        "outputId": "50740f04-621d-4a6c-8190-6f0b345881fd"
      },
      "execution_count": null,
      "outputs": [
        {
          "output_type": "stream",
          "name": "stdout",
          "text": [
            "Uygun Yol Var!\n",
            "['A', 'B', 'D']\n"
          ]
        }
      ]
    },
    {
      "cell_type": "code",
      "source": [
        "# Enlemesine Arama\n",
        "Graf = {\n",
        "    'A': ['B', 'C'],\n",
        "    'B': ['D', 'E'],\n",
        "    'C': ['F', 'G'],\n",
        "    'D': [],\n",
        "    'E': [],\n",
        "    'F': [],\n",
        "    'G': []\n",
        "}\n",
        "ZiyaretEdildi = []\n",
        "Kuyruk=[]\n",
        "Hedef='F'\n",
        "def Enlemesine(ZiyaretEdildi,Graf,Dugum):\n",
        "  ZiyaretEdildi.append(Dugum)\n",
        "  Kuyruk.append(Dugum)\n",
        "  while Kuyruk:\n",
        "    s=Kuyruk.pop(0)\n",
        "    print (s+\"--->\",end=\"\")\n",
        "    for Komsu in Graf[s]:\n",
        "      if Komsu not in ZiyaretEdildi:\n",
        "          ZiyaretEdildi.append(Komsu)\n",
        "          Kuyruk.append(Komsu)\n",
        "          if Hedef in ZiyaretEdildi:\n",
        "            break\n",
        "Enlemesine(ZiyaretEdildi,Graf,'A')"
      ],
      "metadata": {
        "colab": {
          "base_uri": "https://localhost:8080/"
        },
        "id": "ilzR4mia8SzM",
        "outputId": "8906560c-b400-4aaf-fb3c-7a7d8ffd263d"
      },
      "execution_count": null,
      "outputs": [
        {
          "output_type": "stream",
          "name": "stdout",
          "text": [
            "A--->B--->C--->D--->E--->F--->"
          ]
        }
      ]
    },
    {
      "cell_type": "code",
      "source": [
        "# Maliyet öncelikli  Arama\n",
        "Graf=[['A','B',12],\n",
        "     ['A','C',4],\n",
        "     ['B','D',7],\n",
        "     ['B','E',3],\n",
        "     ['E','H',3],\n",
        "     ['C','F',8],\n",
        "     ['C','G',2],\n",
        "     ['F','H',2],\n",
        "     ['G','H',3]]\n",
        "Gecici=[]\n",
        "Gecici1=[]\n",
        "for i in Graf:\n",
        "  Gecici.append(i[0])\n",
        "  Gecici.append(i[1])\n",
        "Dugumler=set(Gecici).union(set(Gecici))\n",
        "def MaliyetOncelikli(Graf,Maliyet, Acik, Kapali, Gecerli_Dugum):\n",
        "  if Gecerli_Dugum in Acik:\n",
        "    Acik.remove(Gecerli_Dugum)\n",
        "  Kapali.add(Gecerli_Dugum)\n",
        "  for i in Graf:\n",
        "    if(i[0] == Gecerli_Dugum and Maliyet[i[0]]+i[2]< Maliyet[i[1]]):\n",
        "      Acik.add(i[1])\n",
        "      Maliyet[i[1]]=Maliyet[i[0]]+i[2]\n",
        "      Yol[i[1]]=Yol[i[0]]+'->'+i[1]\n",
        "  Maliyet[Gecerli_Dugum]=999999\n",
        "  Kucuk=min(Maliyet,key=Maliyet.get)\n",
        "  if Kucuk not in Kapali:\n",
        "   MaliyetOncelikli(Graf, Maliyet, Acik, Kapali, Kucuk)\n",
        "Maliyet=dict()\n",
        "Gecici_cost=dict()\n",
        "Yol=dict()\n",
        "for i in Dugumler:\n",
        "  Maliyet[i]=999999\n",
        "  Yol[i]=' '\n",
        "Acik = set()\n",
        "Kapali=set()\n",
        "BaslangicDugumu=input(\"Başlangıç Durumu Gİriniz:\")\n",
        "Acik.add(BaslangicDugumu)\n",
        "Yol[BaslangicDugumu]=BaslangicDugumu\n",
        "Maliyet[BaslangicDugumu]=0\n",
        "MaliyetOncelikli(Graf, Maliyet, Acik,Kapali,BaslangicDugumu)\n",
        "HedefDugumu=input(\"Hedef Durumunu Giriniz:\")\n",
        "print(\"En az maliyetli YOl:\",Yol[HedefDugumu])\n"
      ],
      "metadata": {
        "colab": {
          "base_uri": "https://localhost:8080/"
        },
        "id": "KyTgHBgchgOu",
        "outputId": "279466a3-af0d-424a-ef09-f681e1bf3c4b"
      },
      "execution_count": null,
      "outputs": [
        {
          "output_type": "stream",
          "name": "stdout",
          "text": [
            "Başlangıç Durumu Gİriniz:A\n",
            "Hedef Durumunu Giriniz:H\n",
            "En az maliyetli YOl: A->C->F->H\n"
          ]
        }
      ]
    },
    {
      "cell_type": "code",
      "source": [
        "# Çift Yönlü  Arama\n",
        "from collections import deque\n",
        "\n",
        "class Dugum:\n",
        "    def __init__(self, Deger, Komsular=[]):\n",
        "        self.Deger = Deger\n",
        "        self.Komsular = Komsular\n",
        "        self.SagZiyaret = False\n",
        "        self.SolZiyaret = False\n",
        "        self.SagDallar = None\n",
        "        self.SolDallar = None\n",
        "\n",
        "def CiftYonlu(s, t):\n",
        "    def YolCikar(Dugum):\n",
        "        DugumKopyala = Dugum\n",
        "        Yol = []\n",
        "        while Dugum:\n",
        "            Yol.append(Dugum.Deger)\n",
        "            Dugum = Dugum.SagDallar\n",
        "        Yol.reverse()\n",
        "        del Yol[-1]\n",
        "        while DugumKopyala:\n",
        "            Yol.append(DugumKopyala.Deger)\n",
        "            DugumKopyala = DugumKopyala.SolDallar\n",
        "        return Yol\n",
        "\n",
        "    q = deque([])\n",
        "    q.append(s)\n",
        "    q.append(t)\n",
        "    s.SagZiyaret = True\n",
        "    t.SolZiyaret = True\n",
        "\n",
        "    while len(q) > 0:\n",
        "        n = q.popleft()  # Use popleft() to dequeue from the left\n",
        "        if n.SolZiyaret and n.SagZiyaret:\n",
        "            return YolCikar(n)\n",
        "        for Dugum in n.Komsular:\n",
        "            if n.SolZiyaret and not Dugum.SolZiyaret:\n",
        "                Dugum.SolDallar = n\n",
        "                Dugum.SolZiyaret = True\n",
        "                q.append(Dugum)\n",
        "            if n.SagZiyaret and not Dugum.SagZiyaret:\n",
        "                Dugum.SagDallar = n\n",
        "                Dugum.SagZiyaret = True\n",
        "                q.append(Dugum)\n",
        "    return False\n",
        "\n",
        "n0 = Dugum('A')\n",
        "n1 = Dugum('B')\n",
        "n2 = Dugum('C')\n",
        "n3 = Dugum('D')\n",
        "n4 = Dugum('E')\n",
        "n5 = Dugum('F')\n",
        "n6 = Dugum('G')\n",
        "\n",
        "n0.Komsular = []\n",
        "n1.Komsular = [n0]\n",
        "n2.Komsular = [n0]\n",
        "n3.Komsular = [n1]\n",
        "n4.Komsular = [n1]\n",
        "n5.Komsular = [n2]\n",
        "n6.Komsular = [n2]\n",
        "\n",
        "print(CiftYonlu(n4, n6))\n"
      ],
      "metadata": {
        "id": "r60bqHg17405",
        "colab": {
          "base_uri": "https://localhost:8080/"
        },
        "outputId": "34e7d314-86ed-46b7-a968-a3d8e134334d"
      },
      "execution_count": null,
      "outputs": [
        {
          "output_type": "stream",
          "name": "stdout",
          "text": [
            "['E', 'B', 'A', 'C', 'G']\n"
          ]
        }
      ]
    },
    {
      "cell_type": "code",
      "source": [
        "# En İyiyi Arama\n",
        "\n",
        "Graf={\n",
        "    'A':[('B',12),('C',4)],\n",
        "    'B':[('D',7),('E',3)],\n",
        "    'C':[('F',8),('G',2)],\n",
        "    'D':[],\n",
        "    'E':[('H',0)],\n",
        "    'F':[('H',0)],\n",
        "    'G':[('H',0)]\n",
        "}\n",
        "def Eniyi(Baslangic,Hedef,Graf,Kuyruk=[],ZiyaretEdildi=[]):\n",
        "  if Baslangic not in ZiyaretEdildi:\n",
        "    print(Baslangic+\"->\",end=(\"\"))\n",
        "    ZiyaretEdildi.append(Baslangic)\n",
        "  Kuyruk=Kuyruk+[x for x in Graf[Baslangic] if x[0][0] not in ZiyaretEdildi]\n",
        "  Kuyruk.sort(key=lambda x:x[1])\n",
        "  if Kuyruk[0][0]==Hedef:\n",
        "    print(\"->\"+Kuyruk[0][0])\n",
        "  else:\n",
        "    Isleniyor=Kuyruk[0]\n",
        "    Kuyruk.remove(Isleniyor)\n",
        "    Eniyi(Isleniyor[0],Hedef,Graf,Kuyruk,ZiyaretEdildi)\n",
        "Eniyi('A','H',Graf)\n",
        "\n"
      ],
      "metadata": {
        "colab": {
          "base_uri": "https://localhost:8080/"
        },
        "id": "cP_jPIpfJ3lD",
        "outputId": "bb99f99a-e051-4fff-80a1-59824c2733f1"
      },
      "execution_count": null,
      "outputs": [
        {
          "output_type": "stream",
          "name": "stdout",
          "text": [
            "A->C->G->->H\n"
          ]
        }
      ]
    },
    {
      "cell_type": "code",
      "source": [
        "# A* Arama\n",
        "Graf=[['A','B',1,3],\n",
        "      ['A','C',2,4],\n",
        "      ['A','H',7,0],\n",
        "      ['B','D',4,2],\n",
        "      ['B','E',6,6],\n",
        "      ['C','F',3,3],\n",
        "      ['C','G',2,1],\n",
        "      ['D','E',7,6],\n",
        "      ['D','H',5,0],\n",
        "      ['F','H',1,0],\n",
        "      ['G','H',2,0]]\n",
        "Gecici=[]\n",
        "Gecici1=[]\n",
        "for i in Graf:\n",
        "  Gecici.append(i[0])\n",
        "  Gecici1.append(i[1])\n",
        "Dugumler=set(Gecici).union(set(Gecici1))\n",
        "def A_star(Graf,Maliyet,Acik,Kapali,cur_node):\n",
        "  if cur_node in Acik:\n",
        "    Acik.remove(cur_node)\n",
        "  Kapali.add(cur_node)\n",
        "  for i in Graf:\n",
        "      if(i[0] == cur_node and Maliyet[i[0]]+i[2]+i[3] < Maliyet[i[1]]):\n",
        "        Acik.add(i[1])\n",
        "        Maliyet[i[1]] = Maliyet[i[0]]+i[2]+i[3]\n",
        "        Yol[i[1]]=Yol[i[0]] + '->'+ i[1]\n",
        "  Maliyet[cur_node]=999999\n",
        "  Kucuk = min(Maliyet,key=Maliyet.get)\n",
        "  if Kucuk not in Kapali:\n",
        "     A_star(Graf,Maliyet, Acik, Kapali, Kucuk)\n",
        "Maliyet=dict()\n",
        "Gecici_cost=dict()\n",
        "Yol=dict()\n",
        "for i in Dugumler:\n",
        "  Maliyet[i]=999999\n",
        "  Yol[i]=''\n",
        "Acik=set()\n",
        "Kapali=set()\n",
        "BaslangicDugumu=input(\"Başlangıç Durumunu Giriniz:\")\n",
        "Acik.add(BaslangicDugumu)\n",
        "Yol[BaslangicDugumu]=BaslangicDugumu\n",
        "Maliyet[BaslangicDugumu]=0\n",
        "A_star(Graf,Maliyet,Acik,Kapali,BaslangicDugumu)\n",
        "HedefDugum=input(\"Hedef Durumunu Gİriniz:\")\n",
        "print(\"Yol with least cost is:\",Yol[HedefDugum])"
      ],
      "metadata": {
        "colab": {
          "base_uri": "https://localhost:8080/"
        },
        "id": "aVq09qQ5v_oE",
        "outputId": "deb25a0b-d89a-40ab-dd95-4553b4b83aec"
      },
      "execution_count": null,
      "outputs": [
        {
          "output_type": "stream",
          "name": "stdout",
          "text": [
            "Başlangıç Durumunu Giriniz:A\n",
            "Hedef Durumunu Gİriniz:H\n",
            "Yol with least cost is: A->C->G->H\n"
          ]
        }
      ]
    },
    {
      "cell_type": "code",
      "source": [
        "import random\n",
        "import numpy as np\n",
        "import networkx as nx\n",
        "\n",
        "# Noktaların veya şehirlerin koordinatları\n",
        "Kordinat = np.array([[1, 2], [30, 21], [56, 23], [8, 18], [20, 50], [3, 4], [11, 6], [6, 7], [15, 20], [10, 9], [12, 12], [46, 17], [60, 55], [100, 80], [16, 13]])\n",
        "\n",
        "# Verilen Koordinatlara dayalı ağırlıklı vir graifik için komşuluk matrisi\n",
        "def MatrisUret(Kordinat):\n",
        "    Matris = []\n",
        "    for i in range(len(Kordinat)):\n",
        "        for j in range(len(Kordinat)):\n",
        "            p = np.linalg.norm(Kordinat[i] - Kordinat[j])\n",
        "            Matris.append(p)\n",
        "    Matris = np.reshape(Matris, (len(Kordinat), len(Kordinat)))\n",
        "    print(\"***Oluşturulan Matris:***\")\n",
        "    print(Matris)\n",
        "    return Matris\n",
        "\n",
        "# Rastgele Çözüm Bul\n",
        "def Cozum(Matris):\n",
        "    Noktalar = list(range(0, len(Matris)))\n",
        "    Cozum = []\n",
        "    for i in range(0, len(Matris)):\n",
        "        RastgeleNokta = Noktalar[random.randint(0, len(Noktalar) - 1)]\n",
        "        Cozum.append(RastgeleNokta)\n",
        "        Noktalar.remove(RastgeleNokta)\n",
        "    return Cozum\n",
        "\n",
        "# Yolu rastgele Çözüme göre hesaplar\n",
        "def YolUzunlugu(Matris, Cozum):\n",
        "    DonguUzunlugu = 0\n",
        "    for i in range(0, len(Cozum)):\n",
        "        DonguUzunlugu += Matris[Cozum[i], Cozum[i - 1]]\n",
        "    return DonguUzunlugu\n",
        "\n",
        "# Noktaları değiştirerek rastgeke çözüm komşuları oluştur ve en iyi komşuyu döndür\n",
        "def Komsular(Matris, Cozum):\n",
        "    Komsular = []\n",
        "    for i in range(len(Cozum)):\n",
        "        for j in range(i + 1, len(Cozum)):\n",
        "            Komsu = Cozum.copy()\n",
        "            Komsu[i] = Cozum[j]\n",
        "            Komsu[j] = Cozum[i]\n",
        "            Komsular.append(Komsu)\n",
        "    # listedeki ilk komşunun en iyi komşu olduğunu varsay\n",
        "    EnIyiKomsu = Komsular[0]\n",
        "    EnIyiYol = YolUzunlugu(Matris, EnIyiKomsu)\n",
        "    # daha iyi komşunun en iyi komşu olduğunu varsay\n",
        "    for Komsu in Komsular:\n",
        "        MevcutYol = YolUzunlugu(Matris, Komsu)\n",
        "        if MevcutYol < EnIyiYol:\n",
        "            EnIyiYol = MevcutYol\n",
        "            EnIyiKomsu = Komsu\n",
        "    return EnIyiKomsu, EnIyiYol\n",
        "\n",
        "def TepeTırmanma(Kordinat):\n",
        "    Matris = MatrisUret(Kordinat)\n",
        "\n",
        "    MevcutCozum = Cozum(Matris)\n",
        "    MevcutYol = YolUzunlugu(Matris, MevcutCozum)\n",
        "    Komsu = Komsular(Matris, MevcutCozum)[0]\n",
        "    EnIyiKomsu, EnIyiKomsu_path = Komsular(Matris, Komsu)\n",
        "\n",
        "    while EnIyiKomsu_path < MevcutYol:\n",
        "        MevcutCozum = EnIyiKomsu\n",
        "        MevcutYol = EnIyiKomsu_path\n",
        "        Komsu = Komsular(Matris, MevcutCozum)[0]\n",
        "        EnIyiKomsu, EnIyiKomsu_path = Komsular(Matris, Komsu)\n",
        "    return MevcutYol, MevcutCozum\n",
        "\n",
        "def Graf(Kordinat):\n",
        "    SonCozum = TepeTırmanma(Kordinat)\n",
        "    G = nx.DiGraph()\n",
        "    Gecici = SonCozum[1]\n",
        "    G.add_nodes_from(SonCozum[1])\n",
        "\n",
        "    for i in range(1, len(SonCozum[1])):\n",
        "        G.add_edge(Gecici[i - 1], Gecici[i])\n",
        "    G.add_edge(Gecici[len(Gecici) - 1], Gecici[0])\n",
        "\n",
        "    RenkliHarita = []\n",
        "    for Dugum in G:\n",
        "        if Dugum == SonCozum[1][0]:\n",
        "            RenkliHarita.append('blue')\n",
        "        else:\n",
        "            RenkliHarita.append('plum')\n",
        "\n",
        "    pos = nx.spring_layout(G)\n",
        "    nx.draw(G, pos, with_labels=True, node_color=RenkliHarita, node_size=1000)\n",
        "    print(\"Bulunan Çözüm:\\n\", SonCozum[0])\n",
        "    return\n",
        "\n",
        "Graf(Kordinat)\n"
      ],
      "metadata": {
        "colab": {
          "base_uri": "https://localhost:8080/",
          "height": 1000
        },
        "id": "395MmCo8tfYs",
        "outputId": "7a2708da-8e90-4d7d-882c-9338a14b5f20"
      },
      "execution_count": null,
      "outputs": [
        {
          "output_type": "stream",
          "name": "stdout",
          "text": [
            "***Oluşturulan Matris:***\n",
            "[[  0.          34.66987165  58.87274412  17.4642492   51.623638\n",
            "    2.82842712  10.77032961   7.07106781  22.8035085   11.40175425\n",
            "   14.86606875  47.4341649   79.30952024 126.03570923  18.60107524]\n",
            " [ 34.66987165   0.          26.07680962  22.20360331  30.6757233\n",
            "   31.90611227  24.20743687  27.78488798  15.03329638  23.32380758\n",
            "   20.1246118   16.4924225   45.3431362   91.54780172  16.1245155 ]\n",
            " [ 58.87274412  26.07680962   0.          48.25971405  45.\n",
            "   56.30275304  48.10405388  52.49761899  41.10960958  48.08326112\n",
            "   45.35416188  11.66190379  32.24903099  72.00694411  41.23105626]\n",
            " [ 17.4642492   22.20360331  48.25971405   0.          34.17601498\n",
            "   14.86606875  12.36931688  11.18033989   7.28010989   9.21954446\n",
            "    7.21110255  38.01315562  63.82005954 110.94142599   9.43398113]\n",
            " [ 51.623638    30.6757233   45.          34.17601498   0.\n",
            "   49.04079934  44.91102315  45.22167622  30.41381265  42.20189569\n",
            "   38.83297568  42.01190308  40.31128874  85.44003745  37.21558813]\n",
            " [  2.82842712  31.90611227  56.30275304  14.86606875  49.04079934\n",
            "    0.           8.24621125   4.24264069  20.           8.60232527\n",
            "   12.04159458  44.92215489  76.4852927  123.22743201  15.8113883 ]\n",
            " [ 10.77032961  24.20743687  48.10405388  12.36931688  44.91102315\n",
            "    8.24621125   0.           5.09901951  14.56021978   3.16227766\n",
            "    6.08276253  36.68787266  69.29646456 115.74541028   8.60232527]\n",
            " [  7.07106781  27.78488798  52.49761899  11.18033989  45.22167622\n",
            "    4.24264069   5.09901951   0.          15.8113883    4.47213595\n",
            "    7.81024968  41.23105626  72.24956747 119.01680554  11.66190379]\n",
            " [ 22.8035085   15.03329638  41.10960958   7.28010989  30.41381265\n",
            "   20.          14.56021978  15.8113883    0.          12.08304597\n",
            "    8.54400375  31.144823    57.00877125 104.04326023   7.07106781]\n",
            " [ 11.40175425  23.32380758  48.08326112   9.21954446  42.20189569\n",
            "    8.60232527   3.16227766   4.47213595  12.08304597   0.\n",
            "    3.60555128  36.87817783  67.94115101 114.63420083   7.21110255]\n",
            " [ 14.86606875  20.1246118   45.35416188   7.21110255  38.83297568\n",
            "   12.04159458   6.08276253   7.81024968   8.54400375   3.60555128\n",
            "    0.          34.36568055  64.44377394 111.2115102    4.12310563]\n",
            " [ 47.4341649   16.4924225   11.66190379  38.01315562  42.01190308\n",
            "   44.92215489  36.68787266  41.23105626  31.144823    36.87817783\n",
            "   34.36568055   0.          40.49691346  82.97590012  30.2654919 ]\n",
            " [ 79.30952024  45.3431362   32.24903099  63.82005954  40.31128874\n",
            "   76.4852927   69.29646456  72.24956747  57.00877125  67.94115101\n",
            "   64.44377394  40.49691346   0.          47.16990566  60.8276253 ]\n",
            " [126.03570923  91.54780172  72.00694411 110.94142599  85.44003745\n",
            "  123.22743201 115.74541028 119.01680554 104.04326023 114.63420083\n",
            "  111.2115102   82.97590012  47.16990566   0.         107.44766168]\n",
            " [ 18.60107524  16.1245155   41.23105626   9.43398113  37.21558813\n",
            "   15.8113883    8.60232527  11.66190379   7.07106781   7.21110255\n",
            "    4.12310563  30.2654919   60.8276253  107.44766168   0.        ]]\n",
            "Bulunan Çözüm:\n",
            " 289.3243043940927\n"
          ]
        },
        {
          "output_type": "display_data",
          "data": {
            "text/plain": [
              "<Figure size 640x480 with 1 Axes>"
            ],
            "image/png": "[encoded data removed]"
          },
          "metadata": {}
        }
      ]
    }
  ]
}