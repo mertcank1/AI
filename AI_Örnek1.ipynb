{
  "nbformat": 4,
  "nbformat_minor": 0,
  "metadata": {
    "colab": {
      "provenance": []
    },
    "kernelspec": {
      "name": "python3",
      "display_name": "Python 3"
    },
    "language_info": {
      "name": "python"
    }
  },
  "cells": [
    {
      "cell_type": "markdown",
      "source": [
        "#**ÖRNEK**\n",
        "\n",
        "Makine öğrenmesi modeli performans değerlendirme ölçülerinin hesaplanması için hazır veri seti ve farklı bir sınıflandırıcı ile yapılan örnek verilmiştir. Bunun için *sklearn* kütüphanesinde bulunan üç çıkış sınıfına sahip olan wine veri setinin *Gaussian Naive Bayes* sınıflandırıcısına uygulandığı makine öğrenmesi çıktısı incelenmştir. Uygulama Python programında yapılmıştır. Programda öncelikle *Scikit-learn* veri setleri kütüphanesinden *wine* veri seti yükleniyor. Daha sonra veri setinin %70'i eğitim ve %30'u test verisi olarak ayrılıyor. Elde edilen eğitim veri seti ile model eğitiliyor. Ardından test verisi girilerek tahmin yaptırılıyor.\n",
        "\n",
        "Kodlarda görülebileceği üzere önce *Doğruluk*, *Kesinlik*, *Duyarlılık-Hatırlatma*, *F1 Skoru* ayrı ayrı hesaplanıyor. Bu değerleri her çıkış sınıfı için hesaplatarak modelin performans özetini çıkarmak için *scikit-learn* kütüphanesindeki *classification.report* işlevi kullanılıyor. Böylece *Doğruluk*, *Kesinlik*, *Duyarlılık-Hatırlatma*, *F1 Skoru* ölçülerinin değerlerini makine öğrenmesinde 3 ayrı çıkış sınıfı bulunduğu için her bir çıkış için değerler ayrı ayrı verilmektedir. Buradan test veri setindeki 54 verinin sınıflara göre dağılımlarını ve tüm model çıkışını kapsayan ortalama değerleri bulmak mümkündür.\n",
        "\n",
        "\n"
      ],
      "metadata": {
        "id": "ew8HypHoEHrV"
      }
    },
    {
      "cell_type": "code",
      "source": [
        "#scikit-learn veri setleri kütüphanesi içe aktarılır.\n",
        "from sklearn import datasets\n",
        "\n",
        "#wine veri setini yükle\n",
        "wine=datasets.load_wine()\n",
        "\n",
        "#Veri setindeki 13 özelliğin isimlerini yazdır.\n",
        "print(\"Features:\",wine.feature_names)\n",
        "\n",
        "#wine etiket türlerini yazdır.\n",
        "print(\"Labels:\",wine.target_names)\n",
        "\n",
        "#veri özellik şeklini yazdır\n",
        "wine.data.shape\n",
        "\n",
        "#En üstteki 5 veri için özellikleri yazdır.\n",
        "print(wine.data[0:])\n",
        "\n",
        "#wine etiketlerini yazdır(0:sınıf_0, 1:sınıf_2, 2:sınıf_2)\n",
        "print(wine.target)\n",
        "\n",
        "#eğitim ve test verilerini otomatik bölmek için train_test_split\n",
        "#fonksiyonu içe aktar\n",
        "from sklearn.model_selection import train_test_split\n",
        "\n",
        "#eğitim ve test verisi olarak ayır\n",
        "#%70 eğitim ve %30 test verisi olarak ayarlanır\n",
        "X_train,X_test,y_train,y_test=train_test_split(wine.data,wine.target,test_size=0.3,random_state=109)\n",
        "\n",
        "#Gaussian Naive Bayes Modelini içe aktar\n",
        "from sklearn.naive_bayes import GaussianNB\n",
        "\n",
        "#Bir Gaussian sınıflandırıcı oluştur.\n",
        "gnb= GaussianNB()\n",
        "\n",
        "#Eğitim veri setleri kullanarak modeli eğitme\n",
        "gnb.fit(X_train,y_train)\n",
        "\n",
        "#Test veri seti için çıktıları tahmin ettirme\n",
        "y_pred=gnb.predict(X_test)\n",
        "print(\"*\"*25)\n",
        "\n",
        "# Doğruluk hesaplaması için scikit-learn metrik modülünü içe aktarın.\n",
        "from sklearn import metrics\n",
        "\n",
        "#Model doğruluk değerini hesaplama\n",
        "print(\"Doğruluk (Accuracy):\",metrics.accuracy_score(y_test,y_pred))\n",
        "print(\"*\"*25)\n",
        "from sklearn.metrics import precision_score\n",
        "#Modelin kesinlik değerini hesaplama\n",
        "Kesinlik=precision_score(y_test,y_pred,average='weighted')\n",
        "print(\"Kesinlik(precision):\", Kesinlik)\n",
        "print(\"*\"*25)\n",
        "from sklearn.metrics import recall_score\n",
        "Duyar=recall_score(y_test,y_pred,average='weighted')\n",
        "print(\"Hatırlatma(Duyarlılık):\", Duyar)\n",
        "print(\"*\"*25)\n",
        "#Modelin F1 skoru değerini hesaplama\n",
        "from sklearn.metrics import f1_score\n",
        "#Model F1 puanı\n",
        "f1puan=f1_score(y_test,y_pred,average='weighted')\n",
        "print(\"F1 skoru:\", f1puan)\n",
        "print(\"*\"*25)\n",
        "#Sınıflandırıcı modelinin performans özetini alma\n",
        "from sklearn.metrics import classification_report\n",
        "report = classification_report(y_test,y_pred)\n",
        "print(report)\n",
        "print(\"*\"*25)\n",
        "#Karmaşıklık matrisi ile ilgili kütüphaneler\n",
        "import matplotlib.pyplot as plt\n",
        "from sklearn.metrics import confusion_matrix\n",
        "from sklearn.metrics import plot_confusion_matrix\n",
        "#Karışıklık matrisinin yazdırılması\n",
        "karmat=confusion_matrix(y_test,y_pred,label=[0,1,2])\n",
        "print(\"Karmaşıklık Matrisi:\",karmat)\n",
        "#Karmaşıklık matrisinin çizdirilmesi\n",
        "plot_confusion_matrix(gnb,X_test,y_test)\n",
        "#eksen etiketleri\n",
        "plt.xlabel('Yanlış Pozitif Oranı')\n",
        "plt.ylabel('Doğru Pozitif Oranı')\n",
        "plt.show()"
      ],
      "metadata": {
        "colab": {
          "base_uri": "https://localhost:8080/",
          "height": 994
        },
        "id": "Fo6h23YsEU-r",
        "outputId": "177ecd94-3163-46c0-e980-8cb00d9c4b1e"
      },
      "execution_count": 13,
      "outputs": [
        {
          "output_type": "stream",
          "name": "stdout",
          "text": [
            "Features: ['alcohol', 'malic_acid', 'ash', 'alcalinity_of_ash', 'magnesium', 'total_phenols', 'flavanoids', 'nonflavanoid_phenols', 'proanthocyanins', 'color_intensity', 'hue', 'od280/od315_of_diluted_wines', 'proline']\n",
            "Labels: ['class_0' 'class_1' 'class_2']\n",
            "[[1.423e+01 1.710e+00 2.430e+00 ... 1.040e+00 3.920e+00 1.065e+03]\n",
            " [1.320e+01 1.780e+00 2.140e+00 ... 1.050e+00 3.400e+00 1.050e+03]\n",
            " [1.316e+01 2.360e+00 2.670e+00 ... 1.030e+00 3.170e+00 1.185e+03]\n",
            " ...\n",
            " [1.327e+01 4.280e+00 2.260e+00 ... 5.900e-01 1.560e+00 8.350e+02]\n",
            " [1.317e+01 2.590e+00 2.370e+00 ... 6.000e-01 1.620e+00 8.400e+02]\n",
            " [1.413e+01 4.100e+00 2.740e+00 ... 6.100e-01 1.600e+00 5.600e+02]]\n",
            "[0 0 0 0 0 0 0 0 0 0 0 0 0 0 0 0 0 0 0 0 0 0 0 0 0 0 0 0 0 0 0 0 0 0 0 0 0\n",
            " 0 0 0 0 0 0 0 0 0 0 0 0 0 0 0 0 0 0 0 0 0 0 1 1 1 1 1 1 1 1 1 1 1 1 1 1 1\n",
            " 1 1 1 1 1 1 1 1 1 1 1 1 1 1 1 1 1 1 1 1 1 1 1 1 1 1 1 1 1 1 1 1 1 1 1 1 1\n",
            " 1 1 1 1 1 1 1 1 1 1 1 1 1 1 1 1 1 1 1 2 2 2 2 2 2 2 2 2 2 2 2 2 2 2 2 2 2\n",
            " 2 2 2 2 2 2 2 2 2 2 2 2 2 2 2 2 2 2 2 2 2 2 2 2 2 2 2 2 2 2]\n",
            "*************************\n",
            "Doğruluk (Accuracy): 0.9074074074074074\n",
            "*************************\n",
            "Kesinlik(precision): 0.9102483164983165\n",
            "*************************\n",
            "Hatırlatma(Duyarlılık): 0.9074074074074074\n",
            "*************************\n",
            "F1 skoru: 0.9053197161724292\n",
            "*************************\n",
            "              precision    recall  f1-score   support\n",
            "\n",
            "           0       0.91      0.95      0.93        21\n",
            "           1       0.94      0.79      0.86        19\n",
            "           2       0.88      1.00      0.93        14\n",
            "\n",
            "    accuracy                           0.91        54\n",
            "   macro avg       0.91      0.91      0.91        54\n",
            "weighted avg       0.91      0.91      0.91        54\n",
            "\n",
            "*************************\n"
          ]
        },
        {
          "output_type": "error",
          "ename": "ImportError",
          "evalue": "cannot import name 'plot_confusion_matrix' from 'sklearn.metrics' (/usr/local/lib/python3.10/dist-packages/sklearn/metrics/__init__.py)",
          "traceback": [
            "\u001b[0;31m---------------------------------------------------------------------------\u001b[0m",
            "\u001b[0;31mImportError\u001b[0m                               Traceback (most recent call last)",
            "\u001b[0;32m<ipython-input-13-c2c0118b230f>\u001b[0m in \u001b[0;36m<cell line: 72>\u001b[0;34m()\u001b[0m\n\u001b[1;32m     70\u001b[0m \u001b[0;32mimport\u001b[0m \u001b[0mmatplotlib\u001b[0m\u001b[0;34m.\u001b[0m\u001b[0mpyplot\u001b[0m \u001b[0;32mas\u001b[0m \u001b[0mplt\u001b[0m\u001b[0;34m\u001b[0m\u001b[0;34m\u001b[0m\u001b[0m\n\u001b[1;32m     71\u001b[0m \u001b[0;32mfrom\u001b[0m \u001b[0msklearn\u001b[0m\u001b[0;34m.\u001b[0m\u001b[0mmetrics\u001b[0m \u001b[0;32mimport\u001b[0m \u001b[0mconfusion_matrix\u001b[0m\u001b[0;34m\u001b[0m\u001b[0;34m\u001b[0m\u001b[0m\n\u001b[0;32m---> 72\u001b[0;31m \u001b[0;32mfrom\u001b[0m \u001b[0msklearn\u001b[0m\u001b[0;34m.\u001b[0m\u001b[0mmetrics\u001b[0m \u001b[0;32mimport\u001b[0m \u001b[0mplot_confusion_matrix\u001b[0m\u001b[0;34m\u001b[0m\u001b[0;34m\u001b[0m\u001b[0m\n\u001b[0m\u001b[1;32m     73\u001b[0m \u001b[0;31m#Karışıklık matrisinin yazdırılması\u001b[0m\u001b[0;34m\u001b[0m\u001b[0;34m\u001b[0m\u001b[0m\n\u001b[1;32m     74\u001b[0m \u001b[0mkarmat\u001b[0m\u001b[0;34m=\u001b[0m\u001b[0mconfusion_matrix\u001b[0m\u001b[0;34m(\u001b[0m\u001b[0my_test\u001b[0m\u001b[0;34m,\u001b[0m\u001b[0my_pred\u001b[0m\u001b[0;34m,\u001b[0m\u001b[0mlabel\u001b[0m\u001b[0;34m=\u001b[0m\u001b[0;34m[\u001b[0m\u001b[0;36m0\u001b[0m\u001b[0;34m,\u001b[0m\u001b[0;36m1\u001b[0m\u001b[0;34m,\u001b[0m\u001b[0;36m2\u001b[0m\u001b[0;34m]\u001b[0m\u001b[0;34m)\u001b[0m\u001b[0;34m\u001b[0m\u001b[0;34m\u001b[0m\u001b[0m\n",
            "\u001b[0;31mImportError\u001b[0m: cannot import name 'plot_confusion_matrix' from 'sklearn.metrics' (/usr/local/lib/python3.10/dist-packages/sklearn/metrics/__init__.py)",
            "",
            "\u001b[0;31m---------------------------------------------------------------------------\u001b[0;32m\nNOTE: If your import is failing due to a missing package, you can\nmanually install dependencies using either !pip or !apt.\n\nTo view examples of installing some common dependencies, click the\n\"Open Examples\" button below.\n\u001b[0;31m---------------------------------------------------------------------------\u001b[0m\n"
          ],
          "errorDetails": {
            "actions": [
              {
                "action": "open_url",
                "actionText": "Open Examples",
                "url": "/notebooks/snippets/importing_libraries.ipynb"
              }
            ]
          }
        }
      ]
    }
  ]
}